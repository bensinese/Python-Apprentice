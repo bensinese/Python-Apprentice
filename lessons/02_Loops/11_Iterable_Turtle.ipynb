{
 "cells": [
  {
   "cell_type": "code",
   "execution_count": null,
   "metadata": {},
   "outputs": [
    {
     "ename": "SyntaxError",
     "evalue": "invalid syntax (2201571033.py, line 13)",
     "output_type": "error",
     "traceback": [
      "\u001b[0;36m  Cell \u001b[0;32mIn[9], line 13\u001b[0;36m\u001b[0m\n\u001b[0;31m    ( <45>, <100> ),\u001b[0m\n\u001b[0m      ^\u001b[0m\n\u001b[0;31mSyntaxError\u001b[0m\u001b[0;31m:\u001b[0m invalid syntax\n"
     ]
    }
   ],
   "source": [
    "\"\"\"\n",
    "Programmable turtle graphics\n",
    "\n",
    "Use what you've learned about lists, loop, cycle, slice and zip to draw a pattern\n",
    "\n",
    "\"\"\"\n",
    "import turtle\n",
    "t = turtle.turtle() # Create a turtle like in previous programs, like 04_Crazy_Tina.py\n",
    "\n",
    "colors = [\"green\", \"blue\", \"red\"] # Make a list of colors\n",
    "\n",
    "directions = [ # Create a list of directions and angles\n",
    "    ( <45>, <100> ),\n",
    "    ( <23>, <100> ), ]# Add more]\n",
    "\n",
    "# Zip the colors and directions together, then unpack them. THere is a good example of this\n",
    "# in 10_More_iterables.ipynb in the discussion of zip()\n",
    "\n",
    "for i in zip( ... , ...):\n",
    "    t.color( ... )\n",
    "    t.forward( ... )\n",
    "    t.left( ... )\n",
    "\n",
    "\n",
    "# Don't forget the special way to end a turtle program. \n"
   ]
  }
 ],
 "metadata": {
  "kernelspec": {
   "display_name": "Python 3",
   "language": "python",
   "name": "python3"
  },
  "language_info": {
   "codemirror_mode": {
    "name": "ipython",
    "version": 3
   },
   "file_extension": ".py",
   "mimetype": "text/x-python",
   "name": "python",
   "nbconvert_exporter": "python",
   "pygments_lexer": "ipython3",
   "version": "3.12.4"
  }
 },
 "nbformat": 4,
 "nbformat_minor": 2
}
