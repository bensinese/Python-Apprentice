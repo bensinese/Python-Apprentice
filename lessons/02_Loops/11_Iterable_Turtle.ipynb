{
 "cells": [
  {
   "cell_type": "code",
   "execution_count": 57,
   "metadata": {},
   "outputs": [],
   "source": [
    "\"\"\"\n",
    "Programmable turtle graphics\n",
    "\n",
    "Use what you've learned about lists, loop, cycle, slice and zip to draw a pattern\n",
    "\n",
    "\"\"\"\n",
    "import turtle\n",
    "\n",
    "t = turtle.Turtle() # Create a turtle like in previous programs, like 04_Crazy_Tina.py\n",
    "\n",
    "colors = [\"green\", \"blue\", \"red\"] # Make a list of colors\n",
    "\n",
    "directions = [47,57,82]\n",
    "\n",
    "# Zip the colors and directions together, then unpack them. THere is a good example of this\n",
    "# in 10_More_iterables.ipynb in the discussion of zip()\n",
    "\n",
    "for c, d in zip( colors, directions):\n",
    "    t.pencolor( c )\n",
    "    t.forward( d )\n",
    "    t.left( d )\n",
    "    \n",
    "# Don't forget the special way to end a turtle program. \n"
   ]
  }
 ],
 "metadata": {
  "kernelspec": {
   "display_name": "Python 3",
   "language": "python",
   "name": "python3"
  },
  "language_info": {
   "codemirror_mode": {
    "name": "ipython",
    "version": 3
   },
   "file_extension": ".py",
   "mimetype": "text/x-python",
   "name": "python",
   "nbconvert_exporter": "python",
   "pygments_lexer": "ipython3",
   "version": "3.12.4"
  }
 },
 "nbformat": 4,
 "nbformat_minor": 2
}
